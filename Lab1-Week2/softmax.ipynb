{
 "cells": [
  {
   "cell_type": "markdown",
   "metadata": {},
   "source": [
    "# Softmax exercise\n",
    "\n",
    "*Complete and hand in this completed worksheet (including its outputs and any supporting code outside of the worksheet) with your assignment submission.*\n",
    "\n",
    "In this exercise, you will:\n",
    "\n",
    "- implement a fully-vectorized **loss function** for the Softmax classifier\n",
    "- implement the fully-vectorized expression for its **analytic gradient**\n",
    "- **check your implementation** with numerical gradient\n",
    "- use a validation set to **tune the learning rate and regularization** strength\n",
    "- **optimize** the loss function with **SGD**\n",
    "- **visualize** the final learned weights\n"
   ]
  },
  {
   "cell_type": "markdown",
   "metadata": {},
   "source": [
    "**Acknowledgement: This exercise is adapted from [Stanford CS231n](http://cs231n.stanford.edu/).**"
   ]
  },
  {
   "cell_type": "code",
   "execution_count": 1,
   "metadata": {},
   "outputs": [],
   "source": [
    "import random\n",
    "import numpy as np\n",
    "from data_utils import load_CIFAR10\n",
    "import matplotlib.pyplot as plt\n",
    "\n",
    "%matplotlib inline\n",
    "plt.rcParams['figure.figsize'] = (10.0, 8.0) # set default size of plots\n",
    "plt.rcParams['image.interpolation'] = 'nearest'\n",
    "plt.rcParams['image.cmap'] = 'gray'\n",
    "\n",
    "# for auto-reloading extenrnal modules\n",
    "# see http://stackoverflow.com/questions/1907993/autoreload-of-modules-in-ipython\n",
    "%load_ext autoreload\n",
    "%autoreload 2"
   ]
  },
  {
   "cell_type": "code",
   "execution_count": 2,
   "metadata": {},
   "outputs": [],
   "source": [
    "def rel_error(out, correct_out):\n",
    "    return np.sum(abs(out - correct_out) / (abs(out) + abs(correct_out)))"
   ]
  },
  {
   "cell_type": "code",
   "execution_count": 3,
   "metadata": {},
   "outputs": [
    {
     "name": "stdout",
     "output_type": "stream",
     "text": [
      "Train data shape:  (49000, 3073)\n",
      "Train labels shape:  (49000,)\n",
      "Validation data shape:  (1000, 3073)\n",
      "Validation labels shape:  (1000,)\n",
      "Test data shape:  (1000, 3073)\n",
      "Test labels shape:  (1000,)\n",
      "dev data shape:  (500, 3073)\n",
      "dev labels shape:  (500,)\n"
     ]
    }
   ],
   "source": [
    "def get_CIFAR10_data(num_training=49000, num_validation=1000, num_test=1000, num_dev=500):\n",
    "    \"\"\"\n",
    "    Load the CIFAR-10 dataset from disk and perform preprocessing to prepare\n",
    "    it for the linear classifier. These are the same steps as we used for the\n",
    "    Softmax, but condensed to a single function.  \n",
    "    \"\"\"\n",
    "    # Load the raw CIFAR-10 data\n",
    "    cifar10_dir = 'datasets/cifar-10-batches-py'\n",
    "    X_train, y_train, X_test, y_test = load_CIFAR10(cifar10_dir)\n",
    "\n",
    "    # subsample the data\n",
    "    mask = range(num_training, num_training + num_validation)\n",
    "    X_val = X_train[mask]\n",
    "    y_val = y_train[mask]\n",
    "    mask = range(num_training)\n",
    "    X_train = X_train[mask]\n",
    "    y_train = y_train[mask]\n",
    "    mask = range(num_test)\n",
    "    X_test = X_test[mask]\n",
    "    y_test = y_test[mask]\n",
    "    \n",
    "    # # We will also make a development set, which is a small subset of\n",
    "    # the training set.\n",
    "    mask = np.random.choice(num_training, num_dev, replace=False)\n",
    "    X_dev = X_train[mask]\n",
    "    y_dev = y_train[mask]\n",
    "\n",
    "    # Preprocessing: reshape the image data into rows\n",
    "    X_train = np.reshape(X_train, (X_train.shape[0], -1))\n",
    "    X_val = np.reshape(X_val, (X_val.shape[0], -1))\n",
    "    X_test = np.reshape(X_test, (X_test.shape[0], -1))\n",
    "    X_dev = np.reshape(X_dev, (X_dev.shape[0], -1))\n",
    "\n",
    "    # Normalize the data: subtract the mean image\n",
    "    mean_image = np.mean(X_train, axis = 0)\n",
    "    X_train -= mean_image\n",
    "    X_val -= mean_image\n",
    "    X_test -= mean_image\n",
    "    X_dev -= mean_image\n",
    "\n",
    "    # add bias dimension and transform into columns\n",
    "    X_train = np.hstack([X_train, np.ones((X_train.shape[0], 1))])\n",
    "    X_val = np.hstack([X_val, np.ones((X_val.shape[0], 1))])\n",
    "    X_test = np.hstack([X_test, np.ones((X_test.shape[0], 1))])\n",
    "    X_dev = np.hstack([X_dev, np.ones((X_dev.shape[0], 1))])\n",
    "\n",
    "    return X_train, y_train, X_val, y_val, X_test, y_test, X_dev, y_dev\n",
    "\n",
    "\n",
    "# Invoke the above function to get our data.\n",
    "X_train, y_train, X_val, y_val, X_test, y_test, X_dev, y_dev = get_CIFAR10_data()\n",
    "print('Train data shape: ', X_train.shape)\n",
    "print('Train labels shape: ', y_train.shape)\n",
    "print('Validation data shape: ', X_val.shape)\n",
    "print('Validation labels shape: ', y_val.shape)\n",
    "print('Test data shape: ', X_test.shape)\n",
    "print('Test labels shape: ', y_test.shape)\n",
    "print('dev data shape: ', X_dev.shape)\n",
    "print('dev labels shape: ', y_dev.shape)"
   ]
  },
  {
   "cell_type": "code",
   "execution_count": 4,
   "metadata": {},
   "outputs": [],
   "source": [
    "# Create one-hot vectors for label\n",
    "num_class = 10\n",
    "y_train_oh = np.zeros((y_train.shape[0], 10))\n",
    "y_train_oh[np.arange(y_train.shape[0]), y_train] = 1\n",
    "y_val_oh = np.zeros((y_val.shape[0], 10))\n",
    "y_val_oh[np.arange(y_val.shape[0]), y_val] = 1\n",
    "y_test_oh = np.zeros((y_test.shape[0], 10))\n",
    "y_test_oh[np.arange(y_test.shape[0]), y_test] = 1\n",
    "\n",
    "y_dev_oh = np.zeros((y_dev.shape[0], 10))\n",
    "y_dev_oh[np.arange(y_dev.shape[0]), y_dev] = 1"
   ]
  },
  {
   "cell_type": "markdown",
   "metadata": {},
   "source": [
    "# Regression as classifier\n",
    "The most simple and straightforward approach to learn a classifier is to map the input data (raw image values) to class label (one-hot vector). The loss function is defined as following: \n",
    "$$\\mathcal{L}=\\frac{1}{n}\\|\\mathbf{X}\\mathbf{W}-\\mathbf{y}\\|_F^2\\qquad\\qquad(1)$$\n",
    "Where:\n",
    "* $\\mathbf{W}\\in \\mathbb{R}^{(d+1)\\times C}$: Classifier weight\n",
    "* $\\mathbf{X}\\in \\mathbb{R}^{n\\times (d+1)}$: Dataset\n",
    "* $\\mathbf{y}\\in \\mathbb{R}^{n\\times C}$: Class label (one-hot vector)"
   ]
  },
  {
   "cell_type": "markdown",
   "metadata": {},
   "source": [
    "# Optimization\n",
    "Given the loss function (1), the next problem is how to solve the weight $\\mathbf{W}$. We now discuss 2 approaches: \n",
    " * Random search\n",
    " * Closed-form solution\n",
    "\n",
    "## Random search"
   ]
  },
  {
   "cell_type": "code",
   "execution_count": 5,
   "metadata": {},
   "outputs": [
    {
     "name": "stdout",
     "output_type": "stream",
     "text": [
      "in attempt 0 the loss was 0.070253, best 0.070253\n",
      "in attempt 1 the loss was 0.068308, best 0.068308\n",
      "in attempt 2 the loss was 0.063222, best 0.063222\n",
      "in attempt 3 the loss was 0.065798, best 0.063222\n",
      "in attempt 4 the loss was 0.074920, best 0.063222\n",
      "in attempt 5 the loss was 0.068552, best 0.063222\n",
      "in attempt 6 the loss was 0.067584, best 0.063222\n",
      "in attempt 7 the loss was 0.067025, best 0.063222\n",
      "in attempt 8 the loss was 0.066053, best 0.063222\n",
      "in attempt 9 the loss was 0.066219, best 0.063222\n",
      "in attempt 10 the loss was 0.064151, best 0.063222\n",
      "in attempt 11 the loss was 0.064296, best 0.063222\n",
      "in attempt 12 the loss was 0.070201, best 0.063222\n",
      "in attempt 13 the loss was 0.064761, best 0.063222\n",
      "in attempt 14 the loss was 0.064403, best 0.063222\n",
      "in attempt 15 the loss was 0.065423, best 0.063222\n",
      "in attempt 16 the loss was 0.064343, best 0.063222\n",
      "in attempt 17 the loss was 0.067813, best 0.063222\n",
      "in attempt 18 the loss was 0.061429, best 0.061429\n",
      "in attempt 19 the loss was 0.066099, best 0.061429\n",
      "in attempt 20 the loss was 0.066846, best 0.061429\n",
      "in attempt 21 the loss was 0.065533, best 0.061429\n",
      "in attempt 22 the loss was 0.064180, best 0.061429\n",
      "in attempt 23 the loss was 0.068986, best 0.061429\n",
      "in attempt 24 the loss was 0.066845, best 0.061429\n",
      "in attempt 25 the loss was 0.062939, best 0.061429\n",
      "in attempt 26 the loss was 0.066398, best 0.061429\n",
      "in attempt 27 the loss was 0.069525, best 0.061429\n",
      "in attempt 28 the loss was 0.063963, best 0.061429\n",
      "in attempt 29 the loss was 0.066909, best 0.061429\n",
      "in attempt 30 the loss was 0.069890, best 0.061429\n",
      "in attempt 31 the loss was 0.065537, best 0.061429\n",
      "in attempt 32 the loss was 0.063734, best 0.061429\n",
      "in attempt 33 the loss was 0.063350, best 0.061429\n",
      "in attempt 34 the loss was 0.065096, best 0.061429\n",
      "in attempt 35 the loss was 0.069297, best 0.061429\n",
      "in attempt 36 the loss was 0.064610, best 0.061429\n",
      "in attempt 37 the loss was 0.070285, best 0.061429\n",
      "in attempt 38 the loss was 0.069254, best 0.061429\n",
      "in attempt 39 the loss was 0.065929, best 0.061429\n",
      "in attempt 40 the loss was 0.061784, best 0.061429\n",
      "in attempt 41 the loss was 0.069911, best 0.061429\n",
      "in attempt 42 the loss was 0.068324, best 0.061429\n",
      "in attempt 43 the loss was 0.067575, best 0.061429\n",
      "in attempt 44 the loss was 0.070478, best 0.061429\n",
      "in attempt 45 the loss was 0.068323, best 0.061429\n",
      "in attempt 46 the loss was 0.069048, best 0.061429\n",
      "in attempt 47 the loss was 0.066938, best 0.061429\n",
      "in attempt 48 the loss was 0.073365, best 0.061429\n",
      "in attempt 49 the loss was 0.066486, best 0.061429\n",
      "in attempt 50 the loss was 0.065984, best 0.061429\n",
      "in attempt 51 the loss was 0.062128, best 0.061429\n",
      "in attempt 52 the loss was 0.064557, best 0.061429\n",
      "in attempt 53 the loss was 0.064548, best 0.061429\n",
      "in attempt 54 the loss was 0.066758, best 0.061429\n",
      "in attempt 55 the loss was 0.065626, best 0.061429\n",
      "in attempt 56 the loss was 0.064383, best 0.061429\n",
      "in attempt 57 the loss was 0.068008, best 0.061429\n",
      "in attempt 58 the loss was 0.069008, best 0.061429\n",
      "in attempt 59 the loss was 0.068327, best 0.061429\n",
      "in attempt 60 the loss was 0.065234, best 0.061429\n",
      "in attempt 61 the loss was 0.068436, best 0.061429\n",
      "in attempt 62 the loss was 0.067335, best 0.061429\n",
      "in attempt 63 the loss was 0.066133, best 0.061429\n",
      "in attempt 64 the loss was 0.064145, best 0.061429\n",
      "in attempt 65 the loss was 0.062613, best 0.061429\n",
      "in attempt 66 the loss was 0.065264, best 0.061429\n",
      "in attempt 67 the loss was 0.063559, best 0.061429\n",
      "in attempt 68 the loss was 0.066922, best 0.061429\n",
      "in attempt 69 the loss was 0.063146, best 0.061429\n",
      "in attempt 70 the loss was 0.068061, best 0.061429\n",
      "in attempt 71 the loss was 0.069704, best 0.061429\n",
      "in attempt 72 the loss was 0.064099, best 0.061429\n",
      "in attempt 73 the loss was 0.067802, best 0.061429\n",
      "in attempt 74 the loss was 0.072085, best 0.061429\n",
      "in attempt 75 the loss was 0.061936, best 0.061429\n",
      "in attempt 76 the loss was 0.066511, best 0.061429\n",
      "in attempt 77 the loss was 0.066505, best 0.061429\n",
      "in attempt 78 the loss was 0.067894, best 0.061429\n",
      "in attempt 79 the loss was 0.064094, best 0.061429\n",
      "in attempt 80 the loss was 0.060804, best 0.060804\n",
      "in attempt 81 the loss was 0.063771, best 0.060804\n",
      "in attempt 82 the loss was 0.064454, best 0.060804\n",
      "in attempt 83 the loss was 0.066162, best 0.060804\n",
      "in attempt 84 the loss was 0.061427, best 0.060804\n",
      "in attempt 85 the loss was 0.067591, best 0.060804\n",
      "in attempt 86 the loss was 0.066290, best 0.060804\n",
      "in attempt 87 the loss was 0.061528, best 0.060804\n",
      "in attempt 88 the loss was 0.065701, best 0.060804\n",
      "in attempt 89 the loss was 0.065116, best 0.060804\n",
      "in attempt 90 the loss was 0.066577, best 0.060804\n",
      "in attempt 91 the loss was 0.067663, best 0.060804\n",
      "in attempt 92 the loss was 0.068013, best 0.060804\n",
      "in attempt 93 the loss was 0.064182, best 0.060804\n",
      "in attempt 94 the loss was 0.066464, best 0.060804\n",
      "in attempt 95 the loss was 0.067032, best 0.060804\n",
      "in attempt 96 the loss was 0.064829, best 0.060804\n",
      "in attempt 97 the loss was 0.070755, best 0.060804\n",
      "in attempt 98 the loss was 0.064672, best 0.060804\n",
      "in attempt 99 the loss was 0.068094, best 0.060804\n"
     ]
    }
   ],
   "source": [
    "bestloss = float('inf')\n",
    "for num in range(100):\n",
    "    W = np.random.randn(3073, 10) * 0.0001\n",
    "    loss = np.linalg.norm(X_dev.dot(W) - y_dev_oh)/X_dev.shape[0]\n",
    "    if (loss < bestloss):\n",
    "        bestloss = loss\n",
    "        bestW = W\n",
    "    print('in attempt %d the loss was %f, best %f' % (num, loss, bestloss))\n",
    "# print(W)"
   ]
  },
  {
   "cell_type": "code",
   "execution_count": 6,
   "metadata": {},
   "outputs": [
    {
     "name": "stdout",
     "output_type": "stream",
     "text": [
      "Accuracy on train set:  11.600000000000001\n",
      "Accuracy on test set:  12.5\n"
     ]
    }
   ],
   "source": [
    "# How bestW perform:\n",
    "print('Accuracy on train set: ', np.sum(np.argmin(np.abs(1 - X_dev.dot(bestW)), axis=1) == y_dev).astype(np.float32)/y_dev.shape[0]*100)\n",
    "print('Accuracy on test set: ', np.sum(np.argmin(np.abs(1 - X_test.dot(bestW)), axis=1) == y_test).astype(np.float32)/y_test.shape[0]*100)"
   ]
  },
  {
   "cell_type": "markdown",
   "metadata": {},
   "source": [
    "You can clearly see that the performance is very low, almost at the random level."
   ]
  },
  {
   "cell_type": "markdown",
   "metadata": {},
   "source": [
    "## Closed-form solution\n",
    "The closed-form solution is achieved by:\n",
    "$$\\frac{\\partial\\mathcal{L}}{\\partial \\mathbf{W}}=\\frac{2}{n}\\mathbf{X}^T(\\mathbf{X}\\mathbf{W}-\\mathbf{y})=0$$\n",
    "\n",
    "$$\\Leftrightarrow\\mathbf{W}^\\ast=(\\mathbf{X}^T\\mathbf{X})^{-1}\\mathbf{X}^T\\mathbf{y}$$"
   ]
  },
  {
   "cell_type": "code",
   "execution_count": 7,
   "metadata": {},
   "outputs": [],
   "source": [
    "################################################################################\n",
    "# TODO:                                                                        #\n",
    "# Implement the closed-form solution of the weight W.                          #\n",
    "################################################################################\n",
    "W = np.linalg.inv(X_dev.T.dot(X_dev)).dot(X_dev.T).dot(y_dev_oh)\n",
    "# print(W)\n",
    "################################################################################\n",
    "#                              END OF YOUR CODE                                #\n",
    "################################################################################"
   ]
  },
  {
   "cell_type": "code",
   "execution_count": 8,
   "metadata": {},
   "outputs": [
    {
     "name": "stdout",
     "output_type": "stream",
     "text": [
      "Train set accuracy:  10.089795918367347\n",
      "Test set accuracy:  9.8\n"
     ]
    }
   ],
   "source": [
    "# Check accuracy:\n",
    "print('Train set accuracy: ', np.sum(np.argmin(np.abs(1 - X_train.dot(W)), axis=1) == y_train).astype(np.float32)/y_train.shape[0]*100)\n",
    "print('Test set accuracy: ', np.sum(np.argmin(np.abs(1 - X_test.dot(W)), axis=1) == y_test).astype(np.float32)/y_test.shape[0]*100)"
   ]
  },
  {
   "cell_type": "markdown",
   "metadata": {},
   "source": [
    "Now, you can see that the performance is much better."
   ]
  },
  {
   "cell_type": "markdown",
   "metadata": {},
   "source": [
    "## Regularization\n",
    "A simple way to improve performance is to include the L2-regularization penalty.\n",
    "$$\\mathcal{L}=\\frac{1}{n}\\|\\mathbf{X}\\mathbf{W}-\\mathbf{y}\\|_F^2 +\\lambda \\|\\mathbf{W}\\|_F^2 \\qquad\\qquad(2)$$\n",
    "The closed-form solution now is: \n",
    "$$\\Leftrightarrow\\mathbf{W}^\\ast=(\\mathbf{X}^T\\mathbf{X}+\\lambda n\\mathbf{I})^{-1}\\mathbf{X}^T\\mathbf{y}$$"
   ]
  },
  {
   "cell_type": "code",
   "execution_count": 9,
   "metadata": {},
   "outputs": [],
   "source": [
    "# try several values of lambda to see how it helps:\n",
    "lambdas = [0.01, 0.1, 1, 10, 100, 1000, 10000, 100000]\n",
    "train_acc = np.zeros((len(lambdas)))\n",
    "test_acc = np.zeros((len(lambdas)))\n",
    "for i in range(len(lambdas)):\n",
    "    l = lambdas[i]\n",
    "    n,d = X_train.shape[0], X_train.shape[1]\n",
    "    ################################################################################\n",
    "    # TODO:                                                                        #\n",
    "    # Implement the closed-form solution of the weight W with regularization.      #\n",
    "    ################################################################################\n",
    "    W = np.linalg.inv(X_dev.T.dot(X_dev)+l*n*np.identity(d)).dot(X_dev.T).dot(y_dev_oh)\n",
    "    ################################################################################\n",
    "    #                              END OF YOUR CODE                                #\n",
    "    ################################################################################\n",
    "    train_acc[i] = np.sum(np.argmin(np.abs(1 - X_train.dot(W)), axis=1) == y_train).astype(np.float32)/y_train.shape[0]*100\n",
    "    test_acc[i]  = np.sum(np.argmin(np.abs(1 - X_test.dot(W)), axis=1) == y_test).astype(np.float32)/y_test.shape[0]*100"
   ]
  },
  {
   "cell_type": "code",
   "execution_count": 10,
   "metadata": {},
   "outputs": [
    {
     "data": {
      "image/png": "[encoded data removed]",
      "text/plain": [
       "<matplotlib.figure.Figure at 0x7f7057c25208>"
      ]
     },
     "metadata": {},
     "output_type": "display_data"
    }
   ],
   "source": [
    "plt.semilogx(lambdas, train_acc, 'r', label=\"Training accuracy\")\n",
    "plt.semilogx(lambdas, test_acc, 'g', label=\"Testing accuracy\")\n",
    "\n",
    "plt.legend()\n",
    "plt.grid(True)\n",
    "plt.show()"
   ]
  },
  {
   "cell_type": "markdown",
   "metadata": {},
   "source": [
    "**Question:** Try to explain why the performances on the training and test set have such behaviors as we change the value of $\\lambda$."
   ]
  },
  {
   "cell_type": "markdown",
   "metadata": {},
   "source": [
    "**Your answer:** As lambda increases, there is more pressure to generate a lower-valued *W* which is less vulnerable to overfitting - thus accuracy increases. However, after lambda=1000, the lambda weighs much more than the actual regression, thus losing accuracy."
   ]
  },
  {
   "cell_type": "markdown",
   "metadata": {},
   "source": [
    "## Softmax Classifier\n",
    "\n",
    "The predicted probability for the $j$-th class given a sample vector $x$ and a weight $W$ is:\n",
    "\n",
    "$$\\displaystyle{P(y=j\\mid x)=\\frac{e^{-xw_j}}{\\sum\\limits_{c=1}^{C}e^{-xw_c}}}$$ \n",
    "\n",
    "![softmax](imgs/softmax.png \"Example of Softmax\")\n",
    "\n",
    "Your code for this section will all be written inside **classifiers/softmax.py**. \n"
   ]
  },
  {
   "cell_type": "code",
   "execution_count": 11,
   "metadata": {
    "scrolled": true
   },
   "outputs": [
    {
     "name": "stdout",
     "output_type": "stream",
     "text": [
      "loss: 2.409400\n",
      "sanity check: 2.302585\n"
     ]
    }
   ],
   "source": [
    "# First implement the naive softmax loss function with nested loops.\n",
    "# Open the file classifiers/softmax.py and implement the\n",
    "# softmax_loss_naive function.\n",
    "\n",
    "from classifiers.softmax import softmax_loss_naive\n",
    "import time\n",
    "\n",
    "# Generate a random softmax weight matrix and use it to compute the loss.\n",
    "W = np.random.randn(3073, 10) * 0.0001\n",
    "loss, grad = softmax_loss_naive(W, X_dev, y_dev, 0.0)\n",
    "# print(grad, '\\n', grad.shape)\n",
    "\n",
    "# As a rough sanity check, our loss should be something close to -log(0.1).\n",
    "print('loss: %f' % loss)\n",
    "print('sanity check: %f' % (-np.log(0.1)))"
   ]
  },
  {
   "cell_type": "markdown",
   "metadata": {},
   "source": [
    "**Question:** Why do we expect our loss to be close to -log(0.1)? Explain briefly.**"
   ]
  },
  {
   "cell_type": "markdown",
   "metadata": {},
   "source": [
    "**Your answer:** Since we are randoming the W, the correct class tag has 10% chance of having probability close to 1 (as it is spread between 10 classes)"
   ]
  },
  {
   "cell_type": "markdown",
   "metadata": {},
   "source": [
    "# Optimization\n",
    "\n",
    "\n",
    "## Random search"
   ]
  },
  {
   "cell_type": "code",
   "execution_count": 12,
   "metadata": {},
   "outputs": [
    {
     "name": "stdout",
     "output_type": "stream",
     "text": [
      "in attempt 0 the loss was 2.358868, best 2.358868\n",
      "in attempt 1 the loss was 2.402313, best 2.358868\n",
      "in attempt 2 the loss was 2.315920, best 2.315920\n",
      "in attempt 3 the loss was 2.368166, best 2.315920\n",
      "in attempt 4 the loss was 2.289069, best 2.289069\n",
      "in attempt 5 the loss was 2.327338, best 2.289069\n",
      "in attempt 6 the loss was 2.426178, best 2.289069\n",
      "in attempt 7 the loss was 2.421486, best 2.289069\n",
      "in attempt 8 the loss was 2.432405, best 2.289069\n",
      "in attempt 9 the loss was 2.431655, best 2.289069\n",
      "in attempt 10 the loss was 2.316400, best 2.289069\n",
      "in attempt 11 the loss was 2.290867, best 2.289069\n",
      "in attempt 12 the loss was 2.362915, best 2.289069\n",
      "in attempt 13 the loss was 2.373514, best 2.289069\n",
      "in attempt 14 the loss was 2.339930, best 2.289069\n",
      "in attempt 15 the loss was 2.369340, best 2.289069\n",
      "in attempt 16 the loss was 2.434748, best 2.289069\n",
      "in attempt 17 the loss was 2.353138, best 2.289069\n",
      "in attempt 18 the loss was 2.363281, best 2.289069\n",
      "in attempt 19 the loss was 2.315151, best 2.289069\n",
      "in attempt 20 the loss was 2.400739, best 2.289069\n",
      "in attempt 21 the loss was 2.371958, best 2.289069\n",
      "in attempt 22 the loss was 2.277852, best 2.277852\n",
      "in attempt 23 the loss was 2.337199, best 2.277852\n",
      "in attempt 24 the loss was 2.339551, best 2.277852\n",
      "in attempt 25 the loss was 2.347469, best 2.277852\n",
      "in attempt 26 the loss was 2.379330, best 2.277852\n",
      "in attempt 27 the loss was 2.358754, best 2.277852\n",
      "in attempt 28 the loss was 2.349724, best 2.277852\n",
      "in attempt 29 the loss was 2.325590, best 2.277852\n",
      "in attempt 30 the loss was 2.292143, best 2.277852\n",
      "in attempt 31 the loss was 2.398416, best 2.277852\n",
      "in attempt 32 the loss was 2.388827, best 2.277852\n",
      "in attempt 33 the loss was 2.394971, best 2.277852\n",
      "in attempt 34 the loss was 2.349339, best 2.277852\n",
      "in attempt 35 the loss was 2.391298, best 2.277852\n",
      "in attempt 36 the loss was 2.345793, best 2.277852\n",
      "in attempt 37 the loss was 2.440063, best 2.277852\n",
      "in attempt 38 the loss was 2.387319, best 2.277852\n",
      "in attempt 39 the loss was 2.393865, best 2.277852\n",
      "in attempt 40 the loss was 2.374453, best 2.277852\n",
      "in attempt 41 the loss was 2.375556, best 2.277852\n",
      "in attempt 42 the loss was 2.351302, best 2.277852\n",
      "in attempt 43 the loss was 2.435186, best 2.277852\n",
      "in attempt 44 the loss was 2.373429, best 2.277852\n",
      "in attempt 45 the loss was 2.373141, best 2.277852\n",
      "in attempt 46 the loss was 2.367952, best 2.277852\n",
      "in attempt 47 the loss was 2.356293, best 2.277852\n",
      "in attempt 48 the loss was 2.342499, best 2.277852\n",
      "in attempt 49 the loss was 2.366939, best 2.277852\n",
      "in attempt 50 the loss was 2.318637, best 2.277852\n",
      "in attempt 51 the loss was 2.314878, best 2.277852\n",
      "in attempt 52 the loss was 2.360073, best 2.277852\n",
      "in attempt 53 the loss was 2.326500, best 2.277852\n",
      "in attempt 54 the loss was 2.378320, best 2.277852\n",
      "in attempt 55 the loss was 2.307359, best 2.277852\n",
      "in attempt 56 the loss was 2.416997, best 2.277852\n",
      "in attempt 57 the loss was 2.417145, best 2.277852\n",
      "in attempt 58 the loss was 2.376222, best 2.277852\n",
      "in attempt 59 the loss was 2.313656, best 2.277852\n",
      "in attempt 60 the loss was 2.318112, best 2.277852\n",
      "in attempt 61 the loss was 2.372688, best 2.277852\n",
      "in attempt 62 the loss was 2.377469, best 2.277852\n",
      "in attempt 63 the loss was 2.311293, best 2.277852\n",
      "in attempt 64 the loss was 2.372707, best 2.277852\n",
      "in attempt 65 the loss was 2.379195, best 2.277852\n",
      "in attempt 66 the loss was 2.318438, best 2.277852\n",
      "in attempt 67 the loss was 2.309459, best 2.277852\n",
      "in attempt 68 the loss was 2.362330, best 2.277852\n",
      "in attempt 69 the loss was 2.374070, best 2.277852\n",
      "in attempt 70 the loss was 2.399044, best 2.277852\n",
      "in attempt 71 the loss was 2.316696, best 2.277852\n",
      "in attempt 72 the loss was 2.331976, best 2.277852\n",
      "in attempt 73 the loss was 2.365646, best 2.277852\n",
      "in attempt 74 the loss was 2.359676, best 2.277852\n",
      "in attempt 75 the loss was 2.319752, best 2.277852\n",
      "in attempt 76 the loss was 2.317043, best 2.277852\n",
      "in attempt 77 the loss was 2.343739, best 2.277852\n",
      "in attempt 78 the loss was 2.332588, best 2.277852\n",
      "in attempt 79 the loss was 2.348760, best 2.277852\n",
      "in attempt 80 the loss was 2.354995, best 2.277852\n",
      "in attempt 81 the loss was 2.376206, best 2.277852\n",
      "in attempt 82 the loss was 2.401951, best 2.277852\n",
      "in attempt 83 the loss was 2.297113, best 2.277852\n",
      "in attempt 84 the loss was 2.387063, best 2.277852\n",
      "in attempt 85 the loss was 2.345176, best 2.277852\n",
      "in attempt 86 the loss was 2.325266, best 2.277852\n",
      "in attempt 87 the loss was 2.394935, best 2.277852\n",
      "in attempt 88 the loss was 2.346707, best 2.277852\n",
      "in attempt 89 the loss was 2.345807, best 2.277852\n",
      "in attempt 90 the loss was 2.335449, best 2.277852\n",
      "in attempt 91 the loss was 2.300291, best 2.277852\n",
      "in attempt 92 the loss was 2.376155, best 2.277852\n",
      "in attempt 93 the loss was 2.375430, best 2.277852\n",
      "in attempt 94 the loss was 2.361040, best 2.277852\n",
      "in attempt 95 the loss was 2.355032, best 2.277852\n",
      "in attempt 96 the loss was 2.413280, best 2.277852\n",
      "in attempt 97 the loss was 2.306328, best 2.277852\n",
      "in attempt 98 the loss was 2.329122, best 2.277852\n",
      "in attempt 99 the loss was 2.360149, best 2.277852\n"
     ]
    }
   ],
   "source": [
    "bestloss = float('inf')\n",
    "for num in range(100):\n",
    "    W = np.random.randn(3073, 10) * 0.0001\n",
    "    loss, _ = softmax_loss_naive(W, X_dev, y_dev, 0.0)\n",
    "    if (loss < bestloss):\n",
    "        bestloss = loss\n",
    "        bestW = W\n",
    "    print('in attempt %d the loss was %f, best %f' % (num, loss, bestloss))"
   ]
  },
  {
   "cell_type": "code",
   "execution_count": 13,
   "metadata": {},
   "outputs": [
    {
     "name": "stdout",
     "output_type": "stream",
     "text": [
      "Accuracy on train set 0.134694\n",
      "Accuracy on test set 0.130000\n"
     ]
    }
   ],
   "source": [
    "# How bestW perform on trainset\n",
    "scores = X_train.dot(bestW)\n",
    "y_pred = np.argmax(scores, axis=1)\n",
    "print('Accuracy on train set %f' % np.mean(y_pred == y_train))\n",
    "\n",
    "# evaluate performance of test set\n",
    "scores = X_test.dot(bestW)\n",
    "y_pred = np.argmax(scores, axis=1)\n",
    "print('Accuracy on test set %f' % np.mean(y_pred == y_test))"
   ]
  },
  {
   "cell_type": "markdown",
   "metadata": {},
   "source": [
    "Compare the performance when using random search with *regression classifier* and *softmax classifier*. You can see how much useful the softmax classifier is."
   ]
  },
  {
   "cell_type": "markdown",
   "metadata": {},
   "source": [
    "## Stochastic Gradient descent\n",
    "Even though it is possible to achieve closed-form solution with softmax classifier, it would be more complicated. In fact, we could achieve very good results with gradient descent approach. Additionally, in case of very large dataset, it is impossible to load the whole dataset into the memory. Gradient descent can help to optimize the loss function in batch. \n",
    "\n",
    "$$\\mathbf{W}^{t+1}=\\mathbf{W}^{t}−\\alpha \\frac{\\partial\\mathcal{L(\\mathbf{x};\\mathbf{W}^{t})}}{\\partial\\mathbf{W}^{t}}$$\n",
    "\n",
    "Where $\\alpha$ is the learning rate, $\\mathcal{L}$ is a loss function, and $\\mathbf{x}$ is a batch of training dataset."
   ]
  },
  {
   "cell_type": "code",
   "execution_count": 14,
   "metadata": {},
   "outputs": [
    {
     "name": "stdout",
     "output_type": "stream",
     "text": [
      "numerical: -0.035084 analytic: -0.035084, relative error: 3.186792e-07\n",
      "numerical: -2.170261 analytic: -2.170261, relative error: 2.530407e-08\n",
      "numerical: 1.348391 analytic: 1.348391, relative error: 4.850941e-08\n",
      "numerical: -0.515142 analytic: -0.515142, relative error: 4.644680e-08\n",
      "numerical: -0.954565 analytic: -0.954565, relative error: 1.482731e-08\n",
      "numerical: 5.214473 analytic: 5.214473, relative error: 1.045836e-08\n",
      "numerical: -1.611203 analytic: -1.611203, relative error: 2.002664e-08\n",
      "numerical: -0.221282 analytic: -0.221282, relative error: 1.171936e-07\n",
      "numerical: -2.055957 analytic: -2.055957, relative error: 1.705917e-08\n",
      "numerical: -3.710678 analytic: -3.710678, relative error: 8.880327e-09\n",
      "numerical: -1.636227 analytic: -1.636227, relative error: 4.057304e-08\n",
      "numerical: -2.967281 analytic: -2.967281, relative error: 1.945464e-08\n",
      "numerical: 1.347836 analytic: 1.347836, relative error: 1.569773e-08\n",
      "numerical: -2.975137 analytic: -2.975137, relative error: 1.310880e-08\n",
      "numerical: -0.154057 analytic: -0.154057, relative error: 1.038497e-07\n",
      "numerical: -4.455242 analytic: -4.455242, relative error: 9.506047e-09\n",
      "numerical: 1.736225 analytic: 1.736224, relative error: 3.631711e-08\n",
      "numerical: -0.649952 analytic: -0.649952, relative error: 1.140082e-07\n",
      "numerical: -1.527796 analytic: -1.527797, relative error: 6.604996e-08\n",
      "numerical: -1.556325 analytic: -1.556325, relative error: 1.164273e-08\n"
     ]
    }
   ],
   "source": [
    "# Complete the implementation of softmax_loss_naive and implement a (naive)\n",
    "# version of the gradient that uses nested loops.\n",
    "loss, grad = softmax_loss_naive(W, X_dev, y_dev, 0.0)\n",
    "\n",
    "# Use numeric gradient checking as a debugging tool.\n",
    "# The numeric gradient should be close to the analytic gradient.\n",
    "from gradient_check import grad_check_sparse\n",
    "f = lambda w: softmax_loss_naive(w, X_dev, y_dev, 0.0)[0]\n",
    "grad_numerical = grad_check_sparse(f, W, grad, 10)\n",
    "\n",
    "# gradient check with regularization\n",
    "loss, grad = softmax_loss_naive(W, X_dev, y_dev, 1e2)\n",
    "f = lambda w: softmax_loss_naive(w, X_dev, y_dev, 1e2)[0]\n",
    "grad_numerical = grad_check_sparse(f, W, grad, 10)"
   ]
  },
  {
   "cell_type": "code",
   "execution_count": 15,
   "metadata": {},
   "outputs": [
    {
     "name": "stdout",
     "output_type": "stream",
     "text": [
      "naive loss: 2.360149e+00 computed in 0.124238s\n",
      "vectorized loss: 2.360149e+00 computed in 0.020081s\n",
      "Loss difference: 0.000000\n",
      "Gradient difference: 0.000000\n"
     ]
    }
   ],
   "source": [
    "# Now that we have a naive implementation of the softmax loss function and its gradient,\n",
    "# implement a vectorized version in softmax_loss_vectorized.\n",
    "# The two versions should compute the same results, but the vectorized version should be\n",
    "# much faster.\n",
    "tic = time.time()\n",
    "loss_naive, grad_naive = softmax_loss_naive(W, X_dev, y_dev, 0.00001)\n",
    "toc = time.time()\n",
    "print('naive loss: %e computed in %fs' % (loss_naive, toc - tic))\n",
    "\n",
    "from classifiers.softmax import softmax_loss_vectorized\n",
    "tic = time.time()\n",
    "loss_vectorized, grad_vectorized = softmax_loss_vectorized(W, X_dev, y_dev, 0.00001)\n",
    "toc = time.time()\n",
    "print('vectorized loss: %e computed in %fs' % (loss_vectorized, toc - tic))\n",
    "\n",
    "# We use the Frobenius norm to compare the two versions\n",
    "# of the gradient.\n",
    "grad_difference = np.linalg.norm(grad_naive - grad_vectorized, ord='fro')\n",
    "print('Loss difference: %f' % np.abs(loss_naive - loss_vectorized))\n",
    "print('Gradient difference: %f' % grad_difference)"
   ]
  },
  {
   "cell_type": "code",
   "execution_count": 16,
   "metadata": {},
   "outputs": [
    {
     "name": "stdout",
     "output_type": "stream",
     "text": [
      "iteration 0 / 1500: loss 762.171358\n",
      "iteration 100 / 1500: loss 280.008289\n",
      "iteration 200 / 1500: loss 103.773071\n",
      "iteration 300 / 1500: loss 39.349877\n",
      "iteration 400 / 1500: loss 15.753760\n",
      "iteration 500 / 1500: loss 7.061786\n",
      "iteration 600 / 1500: loss 3.913218\n",
      "iteration 700 / 1500: loss 2.751283\n",
      "iteration 800 / 1500: loss 2.400763\n",
      "iteration 900 / 1500: loss 2.115031\n",
      "iteration 1000 / 1500: loss 2.144575\n",
      "iteration 1100 / 1500: loss 2.068961\n",
      "iteration 1200 / 1500: loss 2.062256\n",
      "iteration 1300 / 1500: loss 2.091280\n",
      "iteration 1400 / 1500: loss 2.030403\n",
      "That took 8.276086s\n"
     ]
    }
   ],
   "source": [
    "from classifiers.linear_classifier import *\n",
    "\n",
    "classifier = Softmax()\n",
    "tic = time.time()\n",
    "loss_hist = classifier.train(X_train, y_train, learning_rate=1e-7, reg=5e4,\n",
    "                                  num_iters=1500, verbose=True)\n",
    "toc = time.time()\n",
    "print('That took %fs' % (toc - tic))"
   ]
  },
  {
   "cell_type": "code",
   "execution_count": 17,
   "metadata": {},
   "outputs": [
    {
     "name": "stdout",
     "output_type": "stream",
     "text": [
      "training accuracy: 0.330224\n",
      "validation accuracy: 0.341000\n"
     ]
    }
   ],
   "source": [
    "# Write the Softmax.predict function and evaluate the performance on both the\n",
    "# training and validation set\n",
    "y_train_pred = classifier.predict(X_train)\n",
    "print('training accuracy: %f' % (np.mean(y_train == y_train_pred), ))\n",
    "y_val_pred = classifier.predict(X_val)\n",
    "print('validation accuracy: %f' % (np.mean(y_val == y_val_pred), ))"
   ]
  },
  {
   "cell_type": "code",
   "execution_count": 18,
   "metadata": {},
   "outputs": [
    {
     "data": {
      "image/png": "[encoded data removed]",
      "text/plain": [
       "<matplotlib.figure.Figure at 0x7f700de879e8>"
      ]
     },
     "metadata": {},
     "output_type": "display_data"
    }
   ],
   "source": [
    "# A useful debugging strategy is to plot the loss as a function of\n",
    "# iteration number:\n",
    "plt.plot(loss_hist)\n",
    "plt.xlabel('Iteration number')\n",
    "plt.ylabel('Loss value')\n",
    "plt.show()"
   ]
  },
  {
   "cell_type": "code",
   "execution_count": 19,
   "metadata": {},
   "outputs": [
    {
     "name": "stdout",
     "output_type": "stream",
     "text": [
      "softmax on raw pixels final test set accuracy: 34.10\n"
     ]
    }
   ],
   "source": [
    "# evaluate on test set\n",
    "# Evaluate the best softmax on test set\n",
    "y_test_pred = classifier.predict(X_test)\n",
    "test_accuracy = np.mean(y_test == y_test_pred)\n",
    "print('softmax on raw pixels final test set accuracy: %.2f' % (100*test_accuracy, ))"
   ]
  },
  {
   "cell_type": "code",
   "execution_count": null,
   "metadata": {},
   "outputs": [],
   "source": []
  }
 ],
 "metadata": {
  "anaconda-cloud": {},
  "kernelspec": {
   "display_name": "Python 3",
   "language": "python",
   "name": "python3"
  },
  "language_info": {
   "codemirror_mode": {
    "name": "ipython",
    "version": 3
   },
   "file_extension": ".py",
   "mimetype": "text/x-python",
   "name": "python",
   "nbconvert_exporter": "python",
   "pygments_lexer": "ipython3",
   "version": "3.6.0"
  }
 },
 "nbformat": 4,
 "nbformat_minor": 1
}
