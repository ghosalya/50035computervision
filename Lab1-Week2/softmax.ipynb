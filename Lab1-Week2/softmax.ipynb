{
 "cells": [
  {
   "cell_type": "markdown",
   "metadata": {},
   "source": [
    "# Softmax exercise\n",
    "\n",
    "*Complete and hand in this completed worksheet (including its outputs and any supporting code outside of the worksheet) with your assignment submission.*\n",
    "\n",
    "In this exercise, you will:\n",
    "\n",
    "- implement a fully-vectorized **loss function** for the Softmax classifier\n",
    "- implement the fully-vectorized expression for its **analytic gradient**\n",
    "- **check your implementation** with numerical gradient\n",
    "- use a validation set to **tune the learning rate and regularization** strength\n",
    "- **optimize** the loss function with **SGD**\n",
    "- **visualize** the final learned weights\n"
   ]
  },
  {
   "cell_type": "markdown",
   "metadata": {},
   "source": [
    "**Acknowledgement: This exercise is adapted from [Stanford CS231n](http://cs231n.stanford.edu/).**"
   ]
  },
  {
   "cell_type": "code",
   "execution_count": 1,
   "metadata": {},
   "outputs": [],
   "source": [
    "import random\n",
    "import numpy as np\n",
    "from data_utils import load_CIFAR10\n",
    "import matplotlib.pyplot as plt\n",
    "\n",
    "%matplotlib inline\n",
    "plt.rcParams['figure.figsize'] = (10.0, 8.0) # set default size of plots\n",
    "plt.rcParams['image.interpolation'] = 'nearest'\n",
    "plt.rcParams['image.cmap'] = 'gray'\n",
    "\n",
    "# for auto-reloading extenrnal modules\n",
    "# see http://stackoverflow.com/questions/1907993/autoreload-of-modules-in-ipython\n",
    "%load_ext autoreload\n",
    "%autoreload 2"
   ]
  },
  {
   "cell_type": "code",
   "execution_count": 2,
   "metadata": {},
   "outputs": [],
   "source": [
    "def rel_error(out, correct_out):\n",
    "    return np.sum(abs(out - correct_out) / (abs(out) + abs(correct_out)))"
   ]
  },
  {
   "cell_type": "code",
   "execution_count": 3,
   "metadata": {},
   "outputs": [
    {
     "name": "stdout",
     "output_type": "stream",
     "text": [
      "Train data shape:  (49000, 3073)\n",
      "Train labels shape:  (49000,)\n",
      "Validation data shape:  (1000, 3073)\n",
      "Validation labels shape:  (1000,)\n",
      "Test data shape:  (1000, 3073)\n",
      "Test labels shape:  (1000,)\n",
      "dev data shape:  (500, 3073)\n",
      "dev labels shape:  (500,)\n"
     ]
    }
   ],
   "source": [
    "def get_CIFAR10_data(num_training=49000, num_validation=1000, num_test=1000, num_dev=500):\n",
    "    \"\"\"\n",
    "    Load the CIFAR-10 dataset from disk and perform preprocessing to prepare\n",
    "    it for the linear classifier. These are the same steps as we used for the\n",
    "    Softmax, but condensed to a single function.  \n",
    "    \"\"\"\n",
    "    # Load the raw CIFAR-10 data\n",
    "    cifar10_dir = 'datasets/cifar-10-batches-py'\n",
    "    X_train, y_train, X_test, y_test = load_CIFAR10(cifar10_dir)\n",
    "\n",
    "    # subsample the data\n",
    "    mask = range(num_training, num_training + num_validation)\n",
    "    X_val = X_train[mask]\n",
    "    y_val = y_train[mask]\n",
    "    mask = range(num_training)\n",
    "    X_train = X_train[mask]\n",
    "    y_train = y_train[mask]\n",
    "    mask = range(num_test)\n",
    "    X_test = X_test[mask]\n",
    "    y_test = y_test[mask]\n",
    "    \n",
    "    # # We will also make a development set, which is a small subset of\n",
    "    # the training set.\n",
    "    mask = np.random.choice(num_training, num_dev, replace=False)\n",
    "    X_dev = X_train[mask]\n",
    "    y_dev = y_train[mask]\n",
    "\n",
    "    # Preprocessing: reshape the image data into rows\n",
    "    X_train = np.reshape(X_train, (X_train.shape[0], -1))\n",
    "    X_val = np.reshape(X_val, (X_val.shape[0], -1))\n",
    "    X_test = np.reshape(X_test, (X_test.shape[0], -1))\n",
    "    X_dev = np.reshape(X_dev, (X_dev.shape[0], -1))\n",
    "\n",
    "    # Normalize the data: subtract the mean image\n",
    "    mean_image = np.mean(X_train, axis = 0)\n",
    "    X_train -= mean_image\n",
    "    X_val -= mean_image\n",
    "    X_test -= mean_image\n",
    "    X_dev -= mean_image\n",
    "\n",
    "    # add bias dimension and transform into columns\n",
    "    X_train = np.hstack([X_train, np.ones((X_train.shape[0], 1))])\n",
    "    X_val = np.hstack([X_val, np.ones((X_val.shape[0], 1))])\n",
    "    X_test = np.hstack([X_test, np.ones((X_test.shape[0], 1))])\n",
    "    X_dev = np.hstack([X_dev, np.ones((X_dev.shape[0], 1))])\n",
    "\n",
    "    return X_train, y_train, X_val, y_val, X_test, y_test, X_dev, y_dev\n",
    "\n",
    "\n",
    "# Invoke the above function to get our data.\n",
    "X_train, y_train, X_val, y_val, X_test, y_test, X_dev, y_dev = get_CIFAR10_data()\n",
    "print('Train data shape: ', X_train.shape)\n",
    "print('Train labels shape: ', y_train.shape)\n",
    "print('Validation data shape: ', X_val.shape)\n",
    "print('Validation labels shape: ', y_val.shape)\n",
    "print('Test data shape: ', X_test.shape)\n",
    "print('Test labels shape: ', y_test.shape)\n",
    "print('dev data shape: ', X_dev.shape)\n",
    "print('dev labels shape: ', y_dev.shape)"
   ]
  },
  {
   "cell_type": "code",
   "execution_count": 4,
   "metadata": {},
   "outputs": [],
   "source": [
    "# Create one-hot vectors for label\n",
    "num_class = 10\n",
    "y_train_oh = np.zeros((y_train.shape[0], 10))\n",
    "y_train_oh[np.arange(y_train.shape[0]), y_train] = 1\n",
    "y_val_oh = np.zeros((y_val.shape[0], 10))\n",
    "y_val_oh[np.arange(y_val.shape[0]), y_val] = 1\n",
    "y_test_oh = np.zeros((y_test.shape[0], 10))\n",
    "y_test_oh[np.arange(y_test.shape[0]), y_test] = 1\n",
    "\n",
    "y_dev_oh = np.zeros((y_dev.shape[0], 10))\n",
    "y_dev_oh[np.arange(y_dev.shape[0]), y_dev] = 1"
   ]
  },
  {
   "cell_type": "markdown",
   "metadata": {},
   "source": [
    "# Regression as classifier\n",
    "The most simple and straightforward approach to learn a classifier is to map the input data (raw image values) to class label (one-hot vector). The loss function is defined as following: \n",
    "$$\\mathcal{L}=\\frac{1}{n}\\|\\mathbf{X}\\mathbf{W}-\\mathbf{y}\\|_F^2\\qquad\\qquad(1)$$\n",
    "Where:\n",
    "* $\\mathbf{W}\\in \\mathbb{R}^{(d+1)\\times C}$: Classifier weight\n",
    "* $\\mathbf{X}\\in \\mathbb{R}^{n\\times (d+1)}$: Dataset\n",
    "* $\\mathbf{y}\\in \\mathbb{R}^{n\\times C}$: Class label (one-hot vector)"
   ]
  },
  {
   "cell_type": "markdown",
   "metadata": {},
   "source": [
    "# Optimization\n",
    "Given the loss function (1), the next problem is how to solve the weight $\\mathbf{W}$. We now discuss 2 approaches: \n",
    " * Random search\n",
    " * Closed-form solution\n",
    "\n",
    "## Random search"
   ]
  },
  {
   "cell_type": "code",
   "execution_count": 5,
   "metadata": {},
   "outputs": [
    {
     "name": "stdout",
     "output_type": "stream",
     "text": [
      "in attempt 0 the loss was 0.065317, best 0.065317\n",
      "in attempt 1 the loss was 0.068865, best 0.065317\n",
      "in attempt 2 the loss was 0.069456, best 0.065317\n",
      "in attempt 3 the loss was 0.070646, best 0.065317\n",
      "in attempt 4 the loss was 0.063880, best 0.063880\n",
      "in attempt 5 the loss was 0.068334, best 0.063880\n",
      "in attempt 6 the loss was 0.065087, best 0.063880\n",
      "in attempt 7 the loss was 0.066007, best 0.063880\n",
      "in attempt 8 the loss was 0.068436, best 0.063880\n",
      "in attempt 9 the loss was 0.063796, best 0.063796\n",
      "in attempt 10 the loss was 0.066588, best 0.063796\n",
      "in attempt 11 the loss was 0.067982, best 0.063796\n",
      "in attempt 12 the loss was 0.067357, best 0.063796\n",
      "in attempt 13 the loss was 0.064808, best 0.063796\n",
      "in attempt 14 the loss was 0.070515, best 0.063796\n",
      "in attempt 15 the loss was 0.064581, best 0.063796\n",
      "in attempt 16 the loss was 0.065839, best 0.063796\n",
      "in attempt 17 the loss was 0.065534, best 0.063796\n",
      "in attempt 18 the loss was 0.068372, best 0.063796\n",
      "in attempt 19 the loss was 0.065072, best 0.063796\n",
      "in attempt 20 the loss was 0.063446, best 0.063446\n",
      "in attempt 21 the loss was 0.066525, best 0.063446\n",
      "in attempt 22 the loss was 0.066816, best 0.063446\n",
      "in attempt 23 the loss was 0.069483, best 0.063446\n",
      "in attempt 24 the loss was 0.065809, best 0.063446\n",
      "in attempt 25 the loss was 0.068059, best 0.063446\n",
      "in attempt 26 the loss was 0.065270, best 0.063446\n",
      "in attempt 27 the loss was 0.063006, best 0.063006\n",
      "in attempt 28 the loss was 0.066227, best 0.063006\n",
      "in attempt 29 the loss was 0.071254, best 0.063006\n",
      "in attempt 30 the loss was 0.066251, best 0.063006\n",
      "in attempt 31 the loss was 0.064921, best 0.063006\n",
      "in attempt 32 the loss was 0.066320, best 0.063006\n",
      "in attempt 33 the loss was 0.066822, best 0.063006\n",
      "in attempt 34 the loss was 0.065853, best 0.063006\n",
      "in attempt 35 the loss was 0.070063, best 0.063006\n",
      "in attempt 36 the loss was 0.068134, best 0.063006\n",
      "in attempt 37 the loss was 0.072574, best 0.063006\n",
      "in attempt 38 the loss was 0.071864, best 0.063006\n",
      "in attempt 39 the loss was 0.068918, best 0.063006\n",
      "in attempt 40 the loss was 0.065056, best 0.063006\n",
      "in attempt 41 the loss was 0.067724, best 0.063006\n",
      "in attempt 42 the loss was 0.070841, best 0.063006\n",
      "in attempt 43 the loss was 0.064066, best 0.063006\n",
      "in attempt 44 the loss was 0.071208, best 0.063006\n",
      "in attempt 45 the loss was 0.064949, best 0.063006\n",
      "in attempt 46 the loss was 0.065885, best 0.063006\n",
      "in attempt 47 the loss was 0.072511, best 0.063006\n",
      "in attempt 48 the loss was 0.066210, best 0.063006\n",
      "in attempt 49 the loss was 0.066992, best 0.063006\n",
      "in attempt 50 the loss was 0.061710, best 0.061710\n",
      "in attempt 51 the loss was 0.060727, best 0.060727\n",
      "in attempt 52 the loss was 0.069926, best 0.060727\n",
      "in attempt 53 the loss was 0.065996, best 0.060727\n",
      "in attempt 54 the loss was 0.067035, best 0.060727\n",
      "in attempt 55 the loss was 0.062417, best 0.060727\n",
      "in attempt 56 the loss was 0.070694, best 0.060727\n",
      "in attempt 57 the loss was 0.069224, best 0.060727\n",
      "in attempt 58 the loss was 0.066778, best 0.060727\n",
      "in attempt 59 the loss was 0.067686, best 0.060727\n",
      "in attempt 60 the loss was 0.067207, best 0.060727\n",
      "in attempt 61 the loss was 0.063329, best 0.060727\n",
      "in attempt 62 the loss was 0.064189, best 0.060727\n",
      "in attempt 63 the loss was 0.066041, best 0.060727\n",
      "in attempt 64 the loss was 0.064779, best 0.060727\n",
      "in attempt 65 the loss was 0.064547, best 0.060727\n",
      "in attempt 66 the loss was 0.065632, best 0.060727\n",
      "in attempt 67 the loss was 0.064558, best 0.060727\n",
      "in attempt 68 the loss was 0.063556, best 0.060727\n",
      "in attempt 69 the loss was 0.064923, best 0.060727\n",
      "in attempt 70 the loss was 0.062512, best 0.060727\n",
      "in attempt 71 the loss was 0.066644, best 0.060727\n",
      "in attempt 72 the loss was 0.063925, best 0.060727\n",
      "in attempt 73 the loss was 0.070911, best 0.060727\n",
      "in attempt 74 the loss was 0.062750, best 0.060727\n",
      "in attempt 75 the loss was 0.072790, best 0.060727\n",
      "in attempt 76 the loss was 0.071848, best 0.060727\n",
      "in attempt 77 the loss was 0.065977, best 0.060727\n",
      "in attempt 78 the loss was 0.065915, best 0.060727\n",
      "in attempt 79 the loss was 0.067840, best 0.060727\n",
      "in attempt 80 the loss was 0.068703, best 0.060727\n",
      "in attempt 81 the loss was 0.064474, best 0.060727\n",
      "in attempt 82 the loss was 0.065356, best 0.060727\n",
      "in attempt 83 the loss was 0.066862, best 0.060727\n",
      "in attempt 84 the loss was 0.064698, best 0.060727\n",
      "in attempt 85 the loss was 0.066412, best 0.060727\n",
      "in attempt 86 the loss was 0.072127, best 0.060727\n",
      "in attempt 87 the loss was 0.066147, best 0.060727\n",
      "in attempt 88 the loss was 0.065804, best 0.060727\n",
      "in attempt 89 the loss was 0.068931, best 0.060727\n",
      "in attempt 90 the loss was 0.064271, best 0.060727\n",
      "in attempt 91 the loss was 0.065558, best 0.060727\n",
      "in attempt 92 the loss was 0.064433, best 0.060727\n",
      "in attempt 93 the loss was 0.068551, best 0.060727\n",
      "in attempt 94 the loss was 0.064183, best 0.060727\n",
      "in attempt 95 the loss was 0.066040, best 0.060727\n",
      "in attempt 96 the loss was 0.068936, best 0.060727\n",
      "in attempt 97 the loss was 0.065708, best 0.060727\n",
      "in attempt 98 the loss was 0.068731, best 0.060727\n",
      "in attempt 99 the loss was 0.071070, best 0.060727\n"
     ]
    }
   ],
   "source": [
    "bestloss = float('inf')\n",
    "for num in range(100):\n",
    "    W = np.random.randn(3073, 10) * 0.0001\n",
    "    loss = np.linalg.norm(X_dev.dot(W) - y_dev_oh)/X_dev.shape[0]\n",
    "    if (loss < bestloss):\n",
    "        bestloss = loss\n",
    "        bestW = W\n",
    "    print('in attempt %d the loss was %f, best %f' % (num, loss, bestloss))\n",
    "# print(W)"
   ]
  },
  {
   "cell_type": "code",
   "execution_count": 6,
   "metadata": {},
   "outputs": [
    {
     "name": "stdout",
     "output_type": "stream",
     "text": [
      "Accuracy on train set:  9.0\n",
      "Accuracy on test set:  8.7\n"
     ]
    }
   ],
   "source": [
    "# How bestW perform:\n",
    "print('Accuracy on train set: ', np.sum(np.argmin(np.abs(1 - X_dev.dot(bestW)), axis=1) == y_dev).astype(np.float32)/y_dev.shape[0]*100)\n",
    "print('Accuracy on test set: ', np.sum(np.argmin(np.abs(1 - X_test.dot(bestW)), axis=1) == y_test).astype(np.float32)/y_test.shape[0]*100)"
   ]
  },
  {
   "cell_type": "markdown",
   "metadata": {},
   "source": [
    "You can clearly see that the performance is very low, almost at the random level."
   ]
  },
  {
   "cell_type": "markdown",
   "metadata": {},
   "source": [
    "## Closed-form solution\n",
    "The closed-form solution is achieved by:\n",
    "$$\\frac{\\partial\\mathcal{L}}{\\partial \\mathbf{W}}=\\frac{2}{n}\\mathbf{X}^T(\\mathbf{X}\\mathbf{W}-\\mathbf{y})=0$$\n",
    "\n",
    "$$\\Leftrightarrow\\mathbf{W}^\\ast=(\\mathbf{X}^T\\mathbf{X})^{-1}\\mathbf{X}^T\\mathbf{y}$$"
   ]
  },
  {
   "cell_type": "code",
   "execution_count": 7,
   "metadata": {},
   "outputs": [],
   "source": [
    "################################################################################\n",
    "# TODO:                                                                        #\n",
    "# Implement the closed-form solution of the weight W.                          #\n",
    "################################################################################\n",
    "W = np.linalg.inv(X_dev.T.dot(X_dev)).dot(X_dev.T).dot(y_dev_oh)\n",
    "# print(W)\n",
    "################################################################################\n",
    "#                              END OF YOUR CODE                                #\n",
    "################################################################################"
   ]
  },
  {
   "cell_type": "code",
   "execution_count": 8,
   "metadata": {},
   "outputs": [
    {
     "name": "stdout",
     "output_type": "stream",
     "text": [
      "Train set accuracy:  10.181632653061225\n",
      "Test set accuracy:  10.5\n"
     ]
    }
   ],
   "source": [
    "# Check accuracy:\n",
    "print('Train set accuracy: ', np.sum(np.argmin(np.abs(1 - X_train.dot(W)), axis=1) == y_train).astype(np.float32)/y_train.shape[0]*100)\n",
    "print('Test set accuracy: ', np.sum(np.argmin(np.abs(1 - X_test.dot(W)), axis=1) == y_test).astype(np.float32)/y_test.shape[0]*100)"
   ]
  },
  {
   "cell_type": "markdown",
   "metadata": {},
   "source": [
    "Now, you can see that the performance is much better."
   ]
  },
  {
   "cell_type": "markdown",
   "metadata": {},
   "source": [
    "## Regularization\n",
    "A simple way to improve performance is to include the L2-regularization penalty.\n",
    "$$\\mathcal{L}=\\frac{1}{n}\\|\\mathbf{X}\\mathbf{W}-\\mathbf{y}\\|_F^2 +\\lambda \\|\\mathbf{W}\\|_F^2 \\qquad\\qquad(2)$$\n",
    "The closed-form solution now is: \n",
    "$$\\Leftrightarrow\\mathbf{W}^\\ast=(\\mathbf{X}^T\\mathbf{X}+\\lambda n\\mathbf{I})^{-1}\\mathbf{X}^T\\mathbf{y}$$"
   ]
  },
  {
   "cell_type": "code",
   "execution_count": 9,
   "metadata": {},
   "outputs": [],
   "source": [
    "# try several values of lambda to see how it helps:\n",
    "lambdas = [0.01, 0.1, 1, 10, 100, 1000, 10000, 100000]\n",
    "train_acc = np.zeros((len(lambdas)))\n",
    "test_acc = np.zeros((len(lambdas)))\n",
    "for i in range(len(lambdas)):\n",
    "    l = lambdas[i]\n",
    "    n,d = X_train.shape[0], X_train.shape[1]\n",
    "    ################################################################################\n",
    "    # TODO:                                                                        #\n",
    "    # Implement the closed-form solution of the weight W with regularization.      #\n",
    "    ################################################################################\n",
    "    W = np.linalg.inv(X_dev.T.dot(X_dev)+l*n*np.identity(d)).dot(X_dev.T).dot(y_dev_oh)\n",
    "    ################################################################################\n",
    "    #                              END OF YOUR CODE                                #\n",
    "    ################################################################################\n",
    "    train_acc[i] = np.sum(np.argmin(np.abs(1 - X_train.dot(W)), axis=1) == y_train).astype(np.float32)/y_train.shape[0]*100\n",
    "    test_acc[i]  = np.sum(np.argmin(np.abs(1 - X_test.dot(W)), axis=1) == y_test).astype(np.float32)/y_test.shape[0]*100"
   ]
  },
  {
   "cell_type": "code",
   "execution_count": 10,
   "metadata": {},
   "outputs": [
    {
     "data": {
      "image/png": "[encoded data removed]",
      "text/plain": [
       "<matplotlib.figure.Figure at 0x7f9cbfb32278>"
      ]
     },
     "metadata": {},
     "output_type": "display_data"
    }
   ],
   "source": [
    "plt.semilogx(lambdas, train_acc, 'r', label=\"Training accuracy\")\n",
    "plt.semilogx(lambdas, test_acc, 'g', label=\"Testing accuracy\")\n",
    "\n",
    "plt.legend()\n",
    "plt.grid(True)\n",
    "plt.show()"
   ]
  },
  {
   "cell_type": "markdown",
   "metadata": {},
   "source": [
    "**Question:** Try to explain why the performances on the training and test set have such behaviors as we change the value of $\\lambda$."
   ]
  },
  {
   "cell_type": "markdown",
   "metadata": {},
   "source": [
    "**Your answer:** As lambda increases, there is more pressure to generate a lower-valued *W* which is less vulnerable to overfitting - thus accuracy increases. However, after lambda=1000, the lambda weighs much more than the actual regression, thus losing accuracy."
   ]
  },
  {
   "cell_type": "markdown",
   "metadata": {},
   "source": [
    "## Softmax Classifier\n",
    "\n",
    "The predicted probability for the $j$-th class given a sample vector $x$ and a weight $W$ is:\n",
    "\n",
    "$$\\displaystyle{P(y=j\\mid x)=\\frac{e^{-xw_j}}{\\sum\\limits_{c=1}^{C}e^{-xw_c}}}$$ \n",
    "\n",
    "![softmax](imgs/softmax.png \"Example of Softmax\")\n",
    "\n",
    "Your code for this section will all be written inside **classifiers/softmax.py**. \n"
   ]
  },
  {
   "cell_type": "code",
   "execution_count": 11,
   "metadata": {
    "scrolled": true
   },
   "outputs": [
    {
     "name": "stdout",
     "output_type": "stream",
     "text": [
      "loss: 2.378045\n",
      "sanity check: 2.302585\n"
     ]
    }
   ],
   "source": [
    "# First implement the naive softmax loss function with nested loops.\n",
    "# Open the file classifiers/softmax.py and implement the\n",
    "# softmax_loss_naive function.\n",
    "\n",
    "from classifiers.softmax import softmax_loss_naive\n",
    "import time\n",
    "\n",
    "# Generate a random softmax weight matrix and use it to compute the loss.\n",
    "W = np.random.randn(3073, 10) * 0.0001\n",
    "loss, grad = softmax_loss_naive(W, X_dev, y_dev, 0.0)\n",
    "# print(grad, '\\n', grad.shape)\n",
    "\n",
    "# As a rough sanity check, our loss should be something close to -log(0.1).\n",
    "print('loss: %f' % loss)\n",
    "print('sanity check: %f' % (-np.log(0.1)))"
   ]
  },
  {
   "cell_type": "markdown",
   "metadata": {},
   "source": [
    "**Question:** Why do we expect our loss to be close to -log(0.1)? Explain briefly.**"
   ]
  },
  {
   "cell_type": "markdown",
   "metadata": {},
   "source": [
    "**Your answer:** Since we are randoming the W, the correct class tag has 10% chance of having probability close to 1 (as it is spread between 10 classes)"
   ]
  },
  {
   "cell_type": "markdown",
   "metadata": {},
   "source": [
    "# Optimization\n",
    "\n",
    "\n",
    "## Random search"
   ]
  },
  {
   "cell_type": "code",
   "execution_count": 12,
   "metadata": {},
   "outputs": [
    {
     "name": "stdout",
     "output_type": "stream",
     "text": [
      "in attempt 0 the loss was 2.435214, best 2.435214\n",
      "in attempt 1 the loss was 2.359000, best 2.359000\n",
      "in attempt 2 the loss was 2.343274, best 2.343274\n",
      "in attempt 3 the loss was 2.339804, best 2.339804\n",
      "in attempt 4 the loss was 2.352903, best 2.339804\n",
      "in attempt 5 the loss was 2.354844, best 2.339804\n",
      "in attempt 6 the loss was 2.341885, best 2.339804\n",
      "in attempt 7 the loss was 2.360617, best 2.339804\n",
      "in attempt 8 the loss was 2.329299, best 2.329299\n",
      "in attempt 9 the loss was 2.360059, best 2.329299\n",
      "in attempt 10 the loss was 2.341585, best 2.329299\n",
      "in attempt 11 the loss was 2.436685, best 2.329299\n",
      "in attempt 12 the loss was 2.356484, best 2.329299\n",
      "in attempt 13 the loss was 2.339600, best 2.329299\n",
      "in attempt 14 the loss was 2.355554, best 2.329299\n",
      "in attempt 15 the loss was 2.319383, best 2.319383\n",
      "in attempt 16 the loss was 2.371941, best 2.319383\n",
      "in attempt 17 the loss was 2.352088, best 2.319383\n",
      "in attempt 18 the loss was 2.338408, best 2.319383\n",
      "in attempt 19 the loss was 2.383808, best 2.319383\n",
      "in attempt 20 the loss was 2.356024, best 2.319383\n",
      "in attempt 21 the loss was 2.321240, best 2.319383\n",
      "in attempt 22 the loss was 2.318211, best 2.318211\n",
      "in attempt 23 the loss was 2.415401, best 2.318211\n",
      "in attempt 24 the loss was 2.389600, best 2.318211\n",
      "in attempt 25 the loss was 2.342172, best 2.318211\n",
      "in attempt 26 the loss was 2.333995, best 2.318211\n",
      "in attempt 27 the loss was 2.370586, best 2.318211\n",
      "in attempt 28 the loss was 2.366311, best 2.318211\n",
      "in attempt 29 the loss was 2.398031, best 2.318211\n",
      "in attempt 30 the loss was 2.357552, best 2.318211\n",
      "in attempt 31 the loss was 2.360860, best 2.318211\n",
      "in attempt 32 the loss was 2.337687, best 2.318211\n",
      "in attempt 33 the loss was 2.382558, best 2.318211\n",
      "in attempt 34 the loss was 2.293968, best 2.293968\n",
      "in attempt 35 the loss was 2.373490, best 2.293968\n",
      "in attempt 36 the loss was 2.355029, best 2.293968\n",
      "in attempt 37 the loss was 2.355799, best 2.293968\n",
      "in attempt 38 the loss was 2.357597, best 2.293968\n",
      "in attempt 39 the loss was 2.365363, best 2.293968\n",
      "in attempt 40 the loss was 2.370336, best 2.293968\n",
      "in attempt 41 the loss was 2.299869, best 2.293968\n",
      "in attempt 42 the loss was 2.376318, best 2.293968\n",
      "in attempt 43 the loss was 2.379532, best 2.293968\n",
      "in attempt 44 the loss was 2.356246, best 2.293968\n",
      "in attempt 45 the loss was 2.327852, best 2.293968\n",
      "in attempt 46 the loss was 2.356267, best 2.293968\n",
      "in attempt 47 the loss was 2.345229, best 2.293968\n",
      "in attempt 48 the loss was 2.366970, best 2.293968\n",
      "in attempt 49 the loss was 2.342759, best 2.293968\n",
      "in attempt 50 the loss was 2.379300, best 2.293968\n",
      "in attempt 51 the loss was 2.361600, best 2.293968\n",
      "in attempt 52 the loss was 2.373405, best 2.293968\n",
      "in attempt 53 the loss was 2.310753, best 2.293968\n",
      "in attempt 54 the loss was 2.379960, best 2.293968\n",
      "in attempt 55 the loss was 2.311360, best 2.293968\n",
      "in attempt 56 the loss was 2.394438, best 2.293968\n",
      "in attempt 57 the loss was 2.441813, best 2.293968\n",
      "in attempt 58 the loss was 2.340897, best 2.293968\n",
      "in attempt 59 the loss was 2.356863, best 2.293968\n",
      "in attempt 60 the loss was 2.323947, best 2.293968\n",
      "in attempt 61 the loss was 2.362534, best 2.293968\n",
      "in attempt 62 the loss was 2.373586, best 2.293968\n",
      "in attempt 63 the loss was 2.357979, best 2.293968\n",
      "in attempt 64 the loss was 2.346361, best 2.293968\n",
      "in attempt 65 the loss was 2.346632, best 2.293968\n",
      "in attempt 66 the loss was 2.327950, best 2.293968\n",
      "in attempt 67 the loss was 2.349266, best 2.293968\n",
      "in attempt 68 the loss was 2.332263, best 2.293968\n",
      "in attempt 69 the loss was 2.370574, best 2.293968\n",
      "in attempt 70 the loss was 2.368805, best 2.293968\n",
      "in attempt 71 the loss was 2.402577, best 2.293968\n",
      "in attempt 72 the loss was 2.309070, best 2.293968\n",
      "in attempt 73 the loss was 2.349457, best 2.293968\n",
      "in attempt 74 the loss was 2.351083, best 2.293968\n",
      "in attempt 75 the loss was 2.278144, best 2.278144\n",
      "in attempt 76 the loss was 2.349661, best 2.278144\n",
      "in attempt 77 the loss was 2.351169, best 2.278144\n",
      "in attempt 78 the loss was 2.335204, best 2.278144\n",
      "in attempt 79 the loss was 2.370376, best 2.278144\n",
      "in attempt 80 the loss was 2.375433, best 2.278144\n",
      "in attempt 81 the loss was 2.417698, best 2.278144\n",
      "in attempt 82 the loss was 2.360477, best 2.278144\n",
      "in attempt 83 the loss was 2.351522, best 2.278144\n",
      "in attempt 84 the loss was 2.347542, best 2.278144\n",
      "in attempt 85 the loss was 2.340287, best 2.278144\n",
      "in attempt 86 the loss was 2.291916, best 2.278144\n",
      "in attempt 87 the loss was 2.393152, best 2.278144\n",
      "in attempt 88 the loss was 2.300723, best 2.278144\n",
      "in attempt 89 the loss was 2.304128, best 2.278144\n",
      "in attempt 90 the loss was 2.361579, best 2.278144\n",
      "in attempt 91 the loss was 2.354691, best 2.278144\n",
      "in attempt 92 the loss was 2.288162, best 2.278144\n",
      "in attempt 93 the loss was 2.326790, best 2.278144\n",
      "in attempt 94 the loss was 2.421762, best 2.278144\n",
      "in attempt 95 the loss was 2.337312, best 2.278144\n",
      "in attempt 96 the loss was 2.408576, best 2.278144\n",
      "in attempt 97 the loss was 2.362431, best 2.278144\n",
      "in attempt 98 the loss was 2.337785, best 2.278144\n",
      "in attempt 99 the loss was 2.335775, best 2.278144\n"
     ]
    }
   ],
   "source": [
    "bestloss = float('inf')\n",
    "for num in range(100):\n",
    "    W = np.random.randn(3073, 10) * 0.0001\n",
    "    loss, _ = softmax_loss_naive(W, X_dev, y_dev, 0.0)\n",
    "    if (loss < bestloss):\n",
    "        bestloss = loss\n",
    "        bestW = W\n",
    "    print('in attempt %d the loss was %f, best %f' % (num, loss, bestloss))"
   ]
  },
  {
   "cell_type": "code",
   "execution_count": 13,
   "metadata": {},
   "outputs": [
    {
     "name": "stdout",
     "output_type": "stream",
     "text": [
      "Accuracy on train set 0.139286\n",
      "Accuracy on test set 0.157000\n"
     ]
    }
   ],
   "source": [
    "# How bestW perform on trainset\n",
    "scores = X_train.dot(bestW)\n",
    "y_pred = np.argmax(scores, axis=1)\n",
    "print('Accuracy on train set %f' % np.mean(y_pred == y_train))\n",
    "\n",
    "# evaluate performance of test set\n",
    "scores = X_test.dot(bestW)\n",
    "y_pred = np.argmax(scores, axis=1)\n",
    "print('Accuracy on test set %f' % np.mean(y_pred == y_test))"
   ]
  },
  {
   "cell_type": "markdown",
   "metadata": {},
   "source": [
    "Compare the performance when using random search with *regression classifier* and *softmax classifier*. You can see how much useful the softmax classifier is."
   ]
  },
  {
   "cell_type": "markdown",
   "metadata": {},
   "source": [
    "## Stochastic Gradient descent\n",
    "Even though it is possible to achieve closed-form solution with softmax classifier, it would be more complicated. In fact, we could achieve very good results with gradient descent approach. Additionally, in case of very large dataset, it is impossible to load the whole dataset into the memory. Gradient descent can help to optimize the loss function in batch. \n",
    "\n",
    "$$\\mathbf{W}^{t+1}=\\mathbf{W}^{t}−\\alpha \\frac{\\partial\\mathcal{L(\\mathbf{x};\\mathbf{W}^{t})}}{\\partial\\mathbf{W}^{t}}$$\n",
    "\n",
    "Where $\\alpha$ is the learning rate, $\\mathcal{L}$ is a loss function, and $\\mathbf{x}$ is a batch of training dataset."
   ]
  },
  {
   "cell_type": "code",
   "execution_count": 14,
   "metadata": {},
   "outputs": [
    {
     "name": "stdout",
     "output_type": "stream",
     "text": [
      "numerical: 0.198428 analytic: 0.198428, relative error: 2.769534e-08\n",
      "numerical: 0.519141 analytic: 0.519141, relative error: 8.651375e-08\n",
      "numerical: -0.393102 analytic: -0.393102, relative error: 3.197364e-08\n",
      "numerical: -1.256868 analytic: -1.256868, relative error: 4.604423e-10\n",
      "numerical: 1.685325 analytic: 1.685325, relative error: 9.270849e-09\n",
      "numerical: 0.515570 analytic: 0.515570, relative error: 8.137635e-08\n",
      "numerical: 0.302720 analytic: 0.302720, relative error: 7.639767e-08\n",
      "numerical: -0.665754 analytic: -0.665754, relative error: 1.048517e-08\n",
      "numerical: -0.742794 analytic: -0.742794, relative error: 3.750800e-08\n",
      "numerical: -2.118399 analytic: -2.118399, relative error: 1.390949e-08\n",
      "numerical: -1.579484 analytic: -1.579484, relative error: 2.708721e-09\n",
      "numerical: -0.108703 analytic: -0.108703, relative error: 1.495409e-07\n",
      "numerical: 0.453052 analytic: 0.453052, relative error: 8.810409e-08\n",
      "numerical: -2.607139 analytic: -2.607139, relative error: 2.276993e-09\n",
      "numerical: -0.970284 analytic: -0.970284, relative error: 5.927498e-08\n",
      "numerical: -1.428996 analytic: -1.428996, relative error: 2.595522e-09\n",
      "numerical: -0.425768 analytic: -0.425768, relative error: 6.637857e-08\n",
      "numerical: -1.880275 analytic: -1.880275, relative error: 7.652772e-09\n",
      "numerical: 1.369314 analytic: 1.369313, relative error: 2.619257e-08\n",
      "numerical: -2.533704 analytic: -2.533704, relative error: 1.904626e-10\n"
     ]
    }
   ],
   "source": [
    "# Complete the implementation of softmax_loss_naive and implement a (naive)\n",
    "# version of the gradient that uses nested loops.\n",
    "loss, grad = softmax_loss_naive(W, X_dev, y_dev, 0.0)\n",
    "\n",
    "# Use numeric gradient checking as a debugging tool.\n",
    "# The numeric gradient should be close to the analytic gradient.\n",
    "from gradient_check import grad_check_sparse\n",
    "f = lambda w: softmax_loss_naive(w, X_dev, y_dev, 0.0)[0]\n",
    "grad_numerical = grad_check_sparse(f, W, grad, 10)\n",
    "\n",
    "# gradient check with regularization\n",
    "loss, grad = softmax_loss_naive(W, X_dev, y_dev, 1e2)\n",
    "f = lambda w: softmax_loss_naive(w, X_dev, y_dev, 1e2)[0]\n",
    "grad_numerical = grad_check_sparse(f, W, grad, 10)"
   ]
  },
  {
   "cell_type": "code",
   "execution_count": 15,
   "metadata": {},
   "outputs": [
    {
     "name": "stdout",
     "output_type": "stream",
     "text": [
      "naive loss: 2.335775e+00 computed in 0.119235s\n",
      "vectorized loss: 2.335775e+00 computed in 0.020581s\n",
      "Loss difference: 0.000000\n",
      "Gradient difference: 0.000000\n"
     ]
    }
   ],
   "source": [
    "# Now that we have a naive implementation of the softmax loss function and its gradient,\n",
    "# implement a vectorized version in softmax_loss_vectorized.\n",
    "# The two versions should compute the same results, but the vectorized version should be\n",
    "# much faster.\n",
    "tic = time.time()\n",
    "loss_naive, grad_naive = softmax_loss_naive(W, X_dev, y_dev, 0.00001)\n",
    "toc = time.time()\n",
    "print('naive loss: %e computed in %fs' % (loss_naive, toc - tic))\n",
    "\n",
    "from classifiers.softmax import softmax_loss_vectorized\n",
    "tic = time.time()\n",
    "loss_vectorized, grad_vectorized = softmax_loss_vectorized(W, X_dev, y_dev, 0.00001)\n",
    "toc = time.time()\n",
    "print('vectorized loss: %e computed in %fs' % (loss_vectorized, toc - tic))\n",
    "\n",
    "# We use the Frobenius norm to compare the two versions\n",
    "# of the gradient.\n",
    "grad_difference = np.linalg.norm(grad_naive - grad_vectorized, ord='fro')\n",
    "print('Loss difference: %f' % np.abs(loss_naive - loss_vectorized))\n",
    "print('Gradient difference: %f' % grad_difference)"
   ]
  },
  {
   "cell_type": "code",
   "execution_count": 16,
   "metadata": {},
   "outputs": [
    {
     "name": "stdout",
     "output_type": "stream",
     "text": [
      "iteration 0 / 1500: loss 779.509144\n",
      "iteration 100 / 1500: loss 285.800789\n",
      "iteration 200 / 1500: loss 105.982887\n",
      "iteration 300 / 1500: loss 40.025485\n",
      "iteration 400 / 1500: loss 15.940987\n",
      "iteration 500 / 1500: loss 7.165697\n",
      "iteration 600 / 1500: loss 4.017136\n",
      "iteration 700 / 1500: loss 2.768274\n",
      "iteration 800 / 1500: loss 2.334512\n",
      "iteration 900 / 1500: loss 2.196251\n",
      "iteration 1000 / 1500: loss 2.117405\n",
      "iteration 1100 / 1500: loss 2.050948\n",
      "iteration 1200 / 1500: loss 2.094589\n",
      "iteration 1300 / 1500: loss 2.027329\n",
      "iteration 1400 / 1500: loss 2.041839\n",
      "That took 7.902240s\n"
     ]
    }
   ],
   "source": [
    "from classifiers.linear_classifier import *\n",
    "\n",
    "classifier = Softmax()\n",
    "tic = time.time()\n",
    "loss_hist = classifier.train(X_train, y_train, learning_rate=1e-7, reg=5e4,\n",
    "                                  num_iters=1500, verbose=True)\n",
    "toc = time.time()\n",
    "print('That took %fs' % (toc - tic))"
   ]
  },
  {
   "cell_type": "code",
   "execution_count": 17,
   "metadata": {},
   "outputs": [
    {
     "name": "stdout",
     "output_type": "stream",
     "text": [
      "training accuracy: 0.327041\n",
      "validation accuracy: 0.342000\n"
     ]
    }
   ],
   "source": [
    "# Write the Softmax.predict function and evaluate the performance on both the\n",
    "# training and validation set\n",
    "y_train_pred = classifier.predict(X_train)\n",
    "print('training accuracy: %f' % (np.mean(y_train == y_train_pred), ))\n",
    "y_val_pred = classifier.predict(X_val)\n",
    "print('validation accuracy: %f' % (np.mean(y_val == y_val_pred), ))"
   ]
  },
  {
   "cell_type": "code",
   "execution_count": 18,
   "metadata": {},
   "outputs": [
    {
     "data": {
      "image/png": "[encoded data removed]",
      "text/plain": [
       "<matplotlib.figure.Figure at 0x7f9cbda4f4e0>"
      ]
     },
     "metadata": {},
     "output_type": "display_data"
    }
   ],
   "source": [
    "# A useful debugging strategy is to plot the loss as a function of\n",
    "# iteration number:\n",
    "plt.plot(loss_hist)\n",
    "plt.xlabel('Iteration number')\n",
    "plt.ylabel('Loss value')\n",
    "plt.show()"
   ]
  },
  {
   "cell_type": "code",
   "execution_count": 19,
   "metadata": {},
   "outputs": [
    {
     "name": "stdout",
     "output_type": "stream",
     "text": [
      "softmax on raw pixels final test set accuracy: 34.50\n"
     ]
    }
   ],
   "source": [
    "# evaluate on test set\n",
    "# Evaluate the best softmax on test set\n",
    "y_test_pred = classifier.predict(X_test)\n",
    "test_accuracy = np.mean(y_test == y_test_pred)\n",
    "print('softmax on raw pixels final test set accuracy: %.2f' % (100*test_accuracy, ))"
   ]
  },
  {
   "cell_type": "code",
   "execution_count": null,
   "metadata": {},
   "outputs": [],
   "source": []
  }
 ],
 "metadata": {
  "anaconda-cloud": {},
  "kernelspec": {
   "display_name": "Python 3",
   "language": "python",
   "name": "python3"
  },
  "language_info": {
   "codemirror_mode": {
    "name": "ipython",
    "version": 3
   },
   "file_extension": ".py",
   "mimetype": "text/x-python",
   "name": "python",
   "nbconvert_exporter": "python",
   "pygments_lexer": "ipython3",
   "version": "3.6.0"
  }
 },
 "nbformat": 4,
 "nbformat_minor": 1
}
